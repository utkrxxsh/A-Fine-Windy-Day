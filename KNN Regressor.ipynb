{
 "cells": [
  {
   "cell_type": "markdown",
   "id": "45947f06",
   "metadata": {},
   "source": [
    "# * A Fine Windy Day"
   ]
  },
  {
   "cell_type": "code",
   "execution_count": 1,
   "id": "8697afe5",
   "metadata": {},
   "outputs": [],
   "source": [
    "import pandas as pd\n",
    "import numpy as np"
   ]
  },
  {
   "cell_type": "code",
   "execution_count": 2,
   "id": "f62f7df7",
   "metadata": {},
   "outputs": [],
   "source": [
    "train=pd.read_csv('X_train.csv')\n",
    "train=train.fillna(0)\n",
    "X_train=train.iloc[:,1:]\n",
    "y_train=train.iloc[:,0]\n",
    "X_test=pd.read_csv('X_test.csv')\n",
    "X_test=X_test.fillna(0)"
   ]
  },
  {
   "cell_type": "code",
   "execution_count": 3,
   "id": "726d7411",
   "metadata": {},
   "outputs": [],
   "source": [
    "leaf_size = list(range(1,50))\n",
    "n_neighbors = list(range(1,30))\n",
    "p=[1,2]\n",
    "parameters={'n_neighbors':n_neighbors,\n",
    "           'leaf_size':leaf_size ,\n",
    "            'p':p\n",
    "           }"
   ]
  },
  {
   "cell_type": "code",
   "execution_count": 4,
   "id": "3fc1d2ec",
   "metadata": {},
   "outputs": [],
   "source": [
    "from sklearn.neighbors import KNeighborsRegressor\n",
    "knn=KNeighborsRegressor(n_neighbors=7,leaf_size=25)\n",
    "knn.fit(X_train,y_train)\n",
    "pred=knn.predict(X_test)"
   ]
  },
  {
   "cell_type": "code",
   "execution_count": 5,
   "id": "d2c39c77",
   "metadata": {},
   "outputs": [
    {
     "name": "stdout",
     "output_type": "stream",
     "text": [
      "0.08655673744094283\n"
     ]
    }
   ],
   "source": [
    "from sklearn.metrics import r2_score\n",
    "y_pred=knn.predict(X_train)\n",
    "print(r2_score(y_pred,y_train))"
   ]
  },
  {
   "cell_type": "code",
   "execution_count": 6,
   "id": "50b8feaa",
   "metadata": {},
   "outputs": [
    {
     "data": {
      "text/plain": [
       "array([2.55103103, 6.29274997, 5.39882381, ..., 5.72955457, 5.93186445,\n",
       "       5.87368866])"
      ]
     },
     "execution_count": 6,
     "metadata": {},
     "output_type": "execute_result"
    }
   ],
   "source": [
    "pred"
   ]
  },
  {
   "cell_type": "code",
   "execution_count": 7,
   "id": "2ca933d6",
   "metadata": {},
   "outputs": [],
   "source": [
    "org=pd.read_csv('test.csv')\n",
    "rem=org.iloc[:,:2]\n",
    "pred=pd.DataFrame(pred)\n",
    "pred.rename(columns={0:'windmill_generated_power(kW/h)'},inplace=True)\n",
    "final_ans=pd.concat([rem, pred], axis=1)"
   ]
  },
  {
   "cell_type": "code",
   "execution_count": 8,
   "id": "e2f74b70",
   "metadata": {},
   "outputs": [
    {
     "data": {
      "text/html": [
       "<div>\n",
       "<style scoped>\n",
       "    .dataframe tbody tr th:only-of-type {\n",
       "        vertical-align: middle;\n",
       "    }\n",
       "\n",
       "    .dataframe tbody tr th {\n",
       "        vertical-align: top;\n",
       "    }\n",
       "\n",
       "    .dataframe thead th {\n",
       "        text-align: right;\n",
       "    }\n",
       "</style>\n",
       "<table border=\"1\" class=\"dataframe\">\n",
       "  <thead>\n",
       "    <tr style=\"text-align: right;\">\n",
       "      <th></th>\n",
       "      <th>tracking_id</th>\n",
       "      <th>datetime</th>\n",
       "      <th>windmill_generated_power(kW/h)</th>\n",
       "    </tr>\n",
       "  </thead>\n",
       "  <tbody>\n",
       "    <tr>\n",
       "      <th>0</th>\n",
       "      <td>WM_19817</td>\n",
       "      <td>2019-04-17 08:53:20</td>\n",
       "      <td>2.551031</td>\n",
       "    </tr>\n",
       "    <tr>\n",
       "      <th>1</th>\n",
       "      <td>WM_18723</td>\n",
       "      <td>2019-03-30 07:43:20</td>\n",
       "      <td>6.292750</td>\n",
       "    </tr>\n",
       "    <tr>\n",
       "      <th>2</th>\n",
       "      <td>WM_34552</td>\n",
       "      <td>2019-08-10 11:33:20</td>\n",
       "      <td>5.398824</td>\n",
       "    </tr>\n",
       "    <tr>\n",
       "      <th>3</th>\n",
       "      <td>WM_28570</td>\n",
       "      <td>2019-06-26 03:53:20</td>\n",
       "      <td>5.168898</td>\n",
       "    </tr>\n",
       "    <tr>\n",
       "      <th>4</th>\n",
       "      <td>WM_36934</td>\n",
       "      <td>2019-08-27 16:43:20</td>\n",
       "      <td>6.027869</td>\n",
       "    </tr>\n",
       "  </tbody>\n",
       "</table>\n",
       "</div>"
      ],
      "text/plain": [
       "  tracking_id             datetime  windmill_generated_power(kW/h)\n",
       "0    WM_19817  2019-04-17 08:53:20                        2.551031\n",
       "1    WM_18723  2019-03-30 07:43:20                        6.292750\n",
       "2    WM_34552  2019-08-10 11:33:20                        5.398824\n",
       "3    WM_28570  2019-06-26 03:53:20                        5.168898\n",
       "4    WM_36934  2019-08-27 16:43:20                        6.027869"
      ]
     },
     "execution_count": 8,
     "metadata": {},
     "output_type": "execute_result"
    }
   ],
   "source": [
    "final_ans.head()"
   ]
  },
  {
   "cell_type": "code",
   "execution_count": 9,
   "id": "c389b005",
   "metadata": {},
   "outputs": [],
   "source": [
    "import os\n",
    "path='E:\\\\Machine Learning\\\\A Fine Windy Day\\\\Model results\\\\'\n",
    "final_ans.to_csv(os.path.join(path,r'knn_regressor.csv'))"
   ]
  }
 ],
 "metadata": {
  "kernelspec": {
   "display_name": "Python 3",
   "language": "python",
   "name": "python3"
  },
  "language_info": {
   "codemirror_mode": {
    "name": "ipython",
    "version": 3
   },
   "file_extension": ".py",
   "mimetype": "text/x-python",
   "name": "python",
   "nbconvert_exporter": "python",
   "pygments_lexer": "ipython3",
   "version": "3.8.5"
  }
 },
 "nbformat": 4,
 "nbformat_minor": 5
}
