{
 "cells": [
  {
   "cell_type": "markdown",
   "id": "3b82d6b9",
   "metadata": {},
   "source": [
    "# * A Fine Windy Day"
   ]
  },
  {
   "cell_type": "code",
   "execution_count": 1,
   "id": "75621a0a",
   "metadata": {},
   "outputs": [],
   "source": [
    "import pandas as pd\n",
    "import numpy as np"
   ]
  },
  {
   "cell_type": "code",
   "execution_count": 2,
   "id": "b6dce472",
   "metadata": {},
   "outputs": [],
   "source": [
    "train=pd.read_csv('X_train.csv')\n",
    "train=train.fillna(0)\n",
    "X_train=train.iloc[:,1:]\n",
    "y_train=train.iloc[:,0]\n",
    "X_test=pd.read_csv('X_test.csv')\n",
    "X_test=X_test.fillna(0)"
   ]
  },
  {
   "cell_type": "code",
   "execution_count": 3,
   "id": "dbb45d6c",
   "metadata": {},
   "outputs": [],
   "source": [
    "from sklearn.ensemble import RandomForestRegressor\n",
    "rf_model=RandomForestRegressor()\n",
    "rf_model.fit(X_train,y_train)\n",
    "y_pred=rf_model.predict(X_test)"
   ]
  },
  {
   "cell_type": "code",
   "execution_count": 4,
   "id": "7e9e7631",
   "metadata": {},
   "outputs": [
    {
     "name": "stdout",
     "output_type": "stream",
     "text": [
      "0.993008272578048\n"
     ]
    }
   ],
   "source": [
    "from sklearn.metrics import r2_score\n",
    "pred=rf_model.predict(X_train)\n",
    "print(r2_score(pred,y_train))"
   ]
  },
  {
   "cell_type": "code",
   "execution_count": 5,
   "id": "34d3fac5",
   "metadata": {
    "scrolled": false
   },
   "outputs": [
    {
     "data": {
      "text/plain": [
       "array([ 2.57854285,  2.4680949 ,  3.36166917, ...,  5.16182379,\n",
       "        5.31745298, 10.41476066])"
      ]
     },
     "execution_count": 5,
     "metadata": {},
     "output_type": "execute_result"
    }
   ],
   "source": [
    "y_pred"
   ]
  },
  {
   "cell_type": "code",
   "execution_count": 6,
   "id": "582f0bd6",
   "metadata": {},
   "outputs": [],
   "source": [
    "org=pd.read_csv('test.csv')\n",
    "rem=org.iloc[:,:2]\n",
    "y_pred=pd.DataFrame(y_pred)\n",
    "y_pred.rename(columns={0:'windmill_generated_power(kW/h)'},inplace=True)\n",
    "final_ans=pd.concat([rem, y_pred], axis=1)"
   ]
  },
  {
   "cell_type": "code",
   "execution_count": 7,
   "id": "fe53d175",
   "metadata": {
    "scrolled": true
   },
   "outputs": [
    {
     "data": {
      "text/html": [
       "<div>\n",
       "<style scoped>\n",
       "    .dataframe tbody tr th:only-of-type {\n",
       "        vertical-align: middle;\n",
       "    }\n",
       "\n",
       "    .dataframe tbody tr th {\n",
       "        vertical-align: top;\n",
       "    }\n",
       "\n",
       "    .dataframe thead th {\n",
       "        text-align: right;\n",
       "    }\n",
       "</style>\n",
       "<table border=\"1\" class=\"dataframe\">\n",
       "  <thead>\n",
       "    <tr style=\"text-align: right;\">\n",
       "      <th></th>\n",
       "      <th>windmill_generated_power(kW/h)</th>\n",
       "    </tr>\n",
       "  </thead>\n",
       "  <tbody>\n",
       "    <tr>\n",
       "      <th>0</th>\n",
       "      <td>2.578543</td>\n",
       "    </tr>\n",
       "    <tr>\n",
       "      <th>1</th>\n",
       "      <td>2.468095</td>\n",
       "    </tr>\n",
       "    <tr>\n",
       "      <th>2</th>\n",
       "      <td>3.361669</td>\n",
       "    </tr>\n",
       "    <tr>\n",
       "      <th>3</th>\n",
       "      <td>7.140738</td>\n",
       "    </tr>\n",
       "    <tr>\n",
       "      <th>4</th>\n",
       "      <td>3.460373</td>\n",
       "    </tr>\n",
       "    <tr>\n",
       "      <th>...</th>\n",
       "      <td>...</td>\n",
       "    </tr>\n",
       "    <tr>\n",
       "      <th>12081</th>\n",
       "      <td>6.461858</td>\n",
       "    </tr>\n",
       "    <tr>\n",
       "      <th>12082</th>\n",
       "      <td>3.065920</td>\n",
       "    </tr>\n",
       "    <tr>\n",
       "      <th>12083</th>\n",
       "      <td>5.161824</td>\n",
       "    </tr>\n",
       "    <tr>\n",
       "      <th>12084</th>\n",
       "      <td>5.317453</td>\n",
       "    </tr>\n",
       "    <tr>\n",
       "      <th>12085</th>\n",
       "      <td>10.414761</td>\n",
       "    </tr>\n",
       "  </tbody>\n",
       "</table>\n",
       "<p>12086 rows × 1 columns</p>\n",
       "</div>"
      ],
      "text/plain": [
       "       windmill_generated_power(kW/h)\n",
       "0                            2.578543\n",
       "1                            2.468095\n",
       "2                            3.361669\n",
       "3                            7.140738\n",
       "4                            3.460373\n",
       "...                               ...\n",
       "12081                        6.461858\n",
       "12082                        3.065920\n",
       "12083                        5.161824\n",
       "12084                        5.317453\n",
       "12085                       10.414761\n",
       "\n",
       "[12086 rows x 1 columns]"
      ]
     },
     "execution_count": 7,
     "metadata": {},
     "output_type": "execute_result"
    }
   ],
   "source": [
    "y_pred"
   ]
  },
  {
   "cell_type": "code",
   "execution_count": 8,
   "id": "a85872c7",
   "metadata": {},
   "outputs": [
    {
     "data": {
      "text/html": [
       "<div>\n",
       "<style scoped>\n",
       "    .dataframe tbody tr th:only-of-type {\n",
       "        vertical-align: middle;\n",
       "    }\n",
       "\n",
       "    .dataframe tbody tr th {\n",
       "        vertical-align: top;\n",
       "    }\n",
       "\n",
       "    .dataframe thead th {\n",
       "        text-align: right;\n",
       "    }\n",
       "</style>\n",
       "<table border=\"1\" class=\"dataframe\">\n",
       "  <thead>\n",
       "    <tr style=\"text-align: right;\">\n",
       "      <th></th>\n",
       "      <th>tracking_id</th>\n",
       "      <th>datetime</th>\n",
       "      <th>windmill_generated_power(kW/h)</th>\n",
       "    </tr>\n",
       "  </thead>\n",
       "  <tbody>\n",
       "    <tr>\n",
       "      <th>0</th>\n",
       "      <td>WM_19817</td>\n",
       "      <td>2019-04-17 08:53:20</td>\n",
       "      <td>2.578543</td>\n",
       "    </tr>\n",
       "    <tr>\n",
       "      <th>1</th>\n",
       "      <td>WM_18723</td>\n",
       "      <td>2019-03-30 07:43:20</td>\n",
       "      <td>2.468095</td>\n",
       "    </tr>\n",
       "    <tr>\n",
       "      <th>2</th>\n",
       "      <td>WM_34552</td>\n",
       "      <td>2019-08-10 11:33:20</td>\n",
       "      <td>3.361669</td>\n",
       "    </tr>\n",
       "    <tr>\n",
       "      <th>3</th>\n",
       "      <td>WM_28570</td>\n",
       "      <td>2019-06-26 03:53:20</td>\n",
       "      <td>7.140738</td>\n",
       "    </tr>\n",
       "    <tr>\n",
       "      <th>4</th>\n",
       "      <td>WM_36934</td>\n",
       "      <td>2019-08-27 16:43:20</td>\n",
       "      <td>3.460373</td>\n",
       "    </tr>\n",
       "  </tbody>\n",
       "</table>\n",
       "</div>"
      ],
      "text/plain": [
       "  tracking_id             datetime  windmill_generated_power(kW/h)\n",
       "0    WM_19817  2019-04-17 08:53:20                        2.578543\n",
       "1    WM_18723  2019-03-30 07:43:20                        2.468095\n",
       "2    WM_34552  2019-08-10 11:33:20                        3.361669\n",
       "3    WM_28570  2019-06-26 03:53:20                        7.140738\n",
       "4    WM_36934  2019-08-27 16:43:20                        3.460373"
      ]
     },
     "execution_count": 8,
     "metadata": {},
     "output_type": "execute_result"
    }
   ],
   "source": [
    "final_ans.head()"
   ]
  },
  {
   "cell_type": "code",
   "execution_count": 9,
   "id": "d5994374",
   "metadata": {},
   "outputs": [],
   "source": [
    "import os\n",
    "path='E:\\\\Machine Learning\\\\A Fine Windy Day\\\\Model results\\\\'\n",
    "final_ans.to_csv(os.path.join(path,r'random_forests.csv'))"
   ]
  }
 ],
 "metadata": {
  "kernelspec": {
   "display_name": "Python 3",
   "language": "python",
   "name": "python3"
  },
  "language_info": {
   "codemirror_mode": {
    "name": "ipython",
    "version": 3
   },
   "file_extension": ".py",
   "mimetype": "text/x-python",
   "name": "python",
   "nbconvert_exporter": "python",
   "pygments_lexer": "ipython3",
   "version": "3.8.5"
  }
 },
 "nbformat": 4,
 "nbformat_minor": 5
}
